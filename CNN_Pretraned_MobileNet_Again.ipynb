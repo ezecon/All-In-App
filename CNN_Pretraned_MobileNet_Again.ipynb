{
  "cells": [
    {
      "cell_type": "markdown",
      "metadata": {
        "id": "view-in-github",
        "colab_type": "text"
      },
      "source": [
        "<a href=\"https://colab.research.google.com/github/ezecon/econozzaman.cf/blob/main/CNN_Pretraned_MobileNet_Again.ipynb\" target=\"_parent\"><img src=\"https://colab.research.google.com/assets/colab-badge.svg\" alt=\"Open In Colab\"/></a>"
      ]
    },
    {
      "cell_type": "markdown",
      "metadata": {
        "id": "2Vrk01iUoYwN"
      },
      "source": [
        "***Library***"
      ]
    },
    {
      "cell_type": "code",
      "execution_count": 1,
      "metadata": {
        "id": "ET-s2PfScmTN"
      },
      "outputs": [],
      "source": [
        "import os\n",
        "import cv2\n",
        "import glob\n",
        "from google.colab import drive\n",
        "from PIL import Image\n",
        "from google.colab.patches import cv2_imshow\n",
        "from PIL import Image\n",
        "import matplotlib.pyplot as plt\n",
        "from IPython.display import display\n",
        "\n",
        "import cv2 as cv\n",
        "import matplotlib.pyplot as plt\n",
        "from skimage.feature import greycomatrix, greycoprops"
      ]
    },
    {
      "cell_type": "code",
      "execution_count": 2,
      "metadata": {
        "colab": {
          "base_uri": "https://localhost:8080/"
        },
        "id": "AgezFiTlc1N5",
        "outputId": "7f2323de-9198-4b57-cc04-fc86b58da203"
      },
      "outputs": [
        {
          "output_type": "stream",
          "name": "stdout",
          "text": [
            "Mounted at /content/drive\n"
          ]
        }
      ],
      "source": [
        "drive.mount('/content/drive')\n"
      ]
    },
    {
      "cell_type": "code",
      "execution_count": 3,
      "metadata": {
        "id": "k3BqYJYEc5zH"
      },
      "outputs": [],
      "source": [
        "\n",
        "import numpy as np\n",
        "import pandas as pd\n",
        "import os\n",
        "import cv2 as cv\n",
        "import matplotlib.pyplot as plt\n",
        "from skimage.feature import greycomatrix, greycoprops"
      ]
    },
    {
      "cell_type": "code",
      "execution_count": 4,
      "metadata": {
        "colab": {
          "base_uri": "https://localhost:8080/"
        },
        "id": "YJojHcNbmnrB",
        "outputId": "3e0017bb-fb45-46c3-a5ac-36e26c65fda2"
      },
      "outputs": [
        {
          "output_type": "stream",
          "name": "stdout",
          "text": [
            "Requirement already satisfied: pip in /usr/local/lib/python3.10/dist-packages (23.1.2)\n",
            "Collecting pip\n",
            "  Downloading pip-23.3.2-py3-none-any.whl (2.1 MB)\n",
            "\u001b[2K     \u001b[90m━━━━━━━━━━━━━━━━━━━━━━━━━━━━━━━━━━━━━━━━\u001b[0m \u001b[32m2.1/2.1 MB\u001b[0m \u001b[31m8.1 MB/s\u001b[0m eta \u001b[36m0:00:00\u001b[0m\n",
            "\u001b[?25hInstalling collected packages: pip\n",
            "  Attempting uninstall: pip\n",
            "    Found existing installation: pip 23.1.2\n",
            "    Uninstalling pip-23.1.2:\n",
            "      Successfully uninstalled pip-23.1.2\n",
            "Successfully installed pip-23.3.2\n",
            "Requirement already satisfied: imutils in /usr/local/lib/python3.10/dist-packages (0.5.4)\n",
            "\u001b[33mWARNING: Running pip as the 'root' user can result in broken permissions and conflicting behaviour with the system package manager. It is recommended to use a virtual environment instead: https://pip.pypa.io/warnings/venv\u001b[0m\u001b[33m\n",
            "\u001b[0m"
          ]
        }
      ],
      "source": [
        "from PIL import Image\n",
        "from PIL import ImageFilter\n",
        "!pip install --upgrade pip\n",
        "!pip install imutils\n",
        "import numpy as np\n",
        "import pandas as pd\n",
        "import os\n",
        "from os import listdir\n",
        "import tensorflow as tf\n",
        "from keras.preprocessing.image import ImageDataGenerator\n",
        "import cv2\n",
        "import matplotlib.pyplot as plt\n",
        "%matplotlib inline\n",
        "import imutils\n",
        "import numpy as np # linear algebra\n",
        "import pandas as pd # data processing, CSV file I/O (e.g. pd.read_csv)\n",
        "import cv2\n",
        "import random\n",
        "from tqdm import tqdm\n",
        "from sklearn.metrics import roc_curve, auc\n",
        "import matplotlib.pyplot as plt\n",
        "from tensorflow.keras.preprocessing.image import ImageDataGenerator\n",
        "import numpy as np\n",
        "import matplotlib.pyplot as plt\n",
        "from itertools import cycle\n",
        "from sklearn import svm, datasets\n",
        "from sklearn.metrics import roc_curve, auc\n",
        "from sklearn.model_selection import train_test_split\n",
        "from sklearn.preprocessing import label_binarize\n",
        "from sklearn.multiclass import OneVsRestClassifier\n",
        "from scipy import interp\n",
        "from sklearn.metrics import roc_auc_score\n",
        "from sklearn.model_selection import train_test_split\n",
        "from sklearn.utils import shuffle #shuffling the data improves the model"
      ]
    },
    {
      "cell_type": "code",
      "execution_count": 5,
      "metadata": {
        "id": "2s2uKCFHfZr7"
      },
      "outputs": [],
      "source": [
        "def show_image(img, cmap='gray'):\n",
        "    fig = plt.figure(figsize=(20,20))\n",
        "    axes = fig.add_subplot(111)\n",
        "    axes.imshow(img, cmap=cmap)"
      ]
    },
    {
      "cell_type": "code",
      "execution_count": 6,
      "metadata": {
        "id": "TRlm2EWgpLpO"
      },
      "outputs": [],
      "source": [
        "\n",
        "from sklearn.model_selection import train_test_split\n",
        "from sklearn.linear_model import LogisticRegression\n",
        "from sklearn.svm import SVC\n",
        "from sklearn.tree import DecisionTreeClassifier\n",
        "from sklearn.neighbors import KNeighborsClassifier\n",
        "from sklearn.naive_bayes import MultinomialNB\n",
        "from sklearn.naive_bayes import GaussianNB\n",
        "from sklearn.ensemble import RandomForestClassifier\n",
        "from sklearn.ensemble import AdaBoostClassifier\n",
        "from sklearn.tree import DecisionTreeClassifier\n",
        "from sklearn.ensemble import GradientBoostingClassifier\n",
        "from xgboost import XGBClassifier\n",
        "from sklearn.metrics import accuracy_score"
      ]
    },
    {
      "cell_type": "code",
      "execution_count": 7,
      "metadata": {
        "id": "lRy2YA52Is65"
      },
      "outputs": [],
      "source": [
        "import os\n",
        "import cv2\n",
        "import numpy as np\n",
        "from sklearn.model_selection import train_test_split\n",
        "from sklearn.metrics import accuracy_score\n",
        "from keras.models import Sequential\n",
        "from keras.layers import Conv2D, MaxPooling2D, Flatten, Dense\n",
        "from keras.utils import to_categorical\n",
        "import os\n",
        "import cv2\n",
        "import numpy as np\n",
        "from sklearn.model_selection import train_test_split\n",
        "from sklearn.metrics import accuracy_score\n",
        "from keras.models import Sequential\n",
        "from keras.layers import Conv2D, MaxPooling2D, Flatten, Dense\n",
        "from keras.utils import to_categorical\n"
      ]
    },
    {
      "cell_type": "code",
      "execution_count": 8,
      "metadata": {
        "id": "WA0vLr2FgDhB"
      },
      "outputs": [],
      "source": [
        "normal_folder = \"/content/drive/MyDrive/Thesis/1_normal\"\n",
        "glaucoma_folder = \"/content/drive/MyDrive/Thesis/Glaucoma/2_glaucoma\"\n",
        "cataract_folder = \"/content/drive/MyDrive/Thesis/Cataract/2_cataract\"\n",
        "retinoblastoma_folder = \"/content/drive/MyDrive/Thesis/Retinoblastoma\""
      ]
    },
    {
      "cell_type": "code",
      "execution_count": 9,
      "metadata": {
        "id": "I8YtNCtphg6v"
      },
      "outputs": [],
      "source": [
        "image_size = (224,224)  # Adjust the desired image size"
      ]
    },
    {
      "cell_type": "code",
      "execution_count": 10,
      "metadata": {
        "id": "w4gSolftiExu"
      },
      "outputs": [],
      "source": [
        "def preprocessingImage(image):\n",
        "  image = cv2.resize(image, image_size)\n",
        "\n",
        "  # Histogram Equalization\n",
        "  equalized_image = cv2.equalizeHist(image)\n",
        "\n",
        "  # Image Restoration (Noise Removal)\n",
        "  denoised_image = cv2.medianBlur(equalized_image, ksize=3)\n",
        "\n",
        "\n",
        "  # Morphological Processing (Erosion and Dilation)\n",
        "  kernel = np.ones((3, 3), np.uint8)\n",
        "  eroded_image = cv2.erode(denoised_image, kernel, iterations=1)\n",
        "  morph_image = cv2.dilate(eroded_image, kernel, iterations=1)\n",
        "\n",
        "  # K-means Segmentation\n",
        "  pixel_values = morph_image.reshape((-1, 1))\n",
        "  pixel_values = np.float32(pixel_values)\n",
        "\n",
        "  criteria = (cv2.TERM_CRITERIA_EPS + cv2.TERM_CRITERIA_MAX_ITER, 10, 1.0)\n",
        "  K = 200\n",
        "\n",
        "  _, labels, centers = cv2.kmeans(pixel_values, K, None, criteria, 10, cv2.KMEANS_RANDOM_CENTERS)\n",
        "  segmented_image = centers[labels.flatten()]\n",
        "  segmented_image = segmented_image.reshape(morph_image.shape)\n",
        "  return morph_image"
      ]
    },
    {
      "cell_type": "code",
      "execution_count": null,
      "metadata": {
        "id": "Czpt8RWt2-9s"
      },
      "outputs": [],
      "source": [
        "# Load images from a folder and create corresponding labels\n",
        "def load_images_from_folder(folder_path, label):\n",
        "    images = []\n",
        "    for filename in os.listdir(folder_path):\n",
        "        image_path = os.path.join(folder_path, filename)\n",
        "        image = cv2.imread(image_path, cv2.IMREAD_GRAYSCALE)\n",
        "        if image is not None:\n",
        "            preprocessed_image = preprocessingImage(image)\n",
        "            images.append(preprocessed_image)\n",
        "    labels = [label] * len(images)\n",
        "    return images, labels\n",
        "\n",
        "# As we already taken those path for our dataset in diffrent variable for track so we dont need to write it again here.\n",
        "\n",
        "# Load images and labels for each class\n",
        "normal_images, normal_labels = load_images_from_folder(normal_folder, label=0)\n",
        "glaucoma_images, glaucoma_labels = load_images_from_folder(glaucoma_folder, label=1)\n",
        "cataract_images, cataract_labels = load_images_from_folder(cataract_folder, label=2)\n",
        "retinoblastoma_images, retinoblastoma_labels = load_images_from_folder(retinoblastoma_folder, label=3)\n"
      ]
    },
    {
      "cell_type": "markdown",
      "metadata": {
        "id": "crxFQDDRKdlu"
      },
      "source": [
        "# MobileNet\n",
        "\n"
      ]
    },
    {
      "cell_type": "code",
      "execution_count": null,
      "metadata": {
        "id": "OKs4MO2i-fTs"
      },
      "outputs": [],
      "source": [
        "from keras.applications.mobilenet_v2 import MobileNetV2\n",
        "from keras.models import Sequential\n",
        "from keras.layers import Dense, GlobalAveragePooling2D\n",
        "from keras.optimizers import Adam\n",
        "from keras.utils import to_categorical\n",
        "from sklearn.model_selection import train_test_split\n",
        "import numpy as np\n",
        "\n",
        "# Assuming your images are already loaded and stored in normal_images, glaucoma_images, etc.\n",
        "# Also, assuming normal_labels, glaucoma_labels, etc. are your labels\n",
        "\n",
        "# Combine the images and labels for all classes\n",
        "X = normal_images + glaucoma_images + cataract_images + retinoblastoma_images\n",
        "y = normal_labels + glaucoma_labels + cataract_labels + retinoblastoma_labels\n",
        "\n",
        "# Convert the image data and labels to numpy arrays\n",
        "X = np.array(X)\n",
        "y = np.array(y)\n"
      ]
    },
    {
      "cell_type": "code",
      "execution_count": null,
      "metadata": {
        "id": "HzHHCHMwpzia"
      },
      "outputs": [],
      "source": [
        "import numpy as np\n",
        "from tensorflow.keras.applications import MobileNet\n",
        "from tensorflow.keras.models import Model\n",
        "from tensorflow.keras.layers import Dense, GlobalAveragePooling2D\n",
        "from tensorflow.keras.optimizers import Adam\n",
        "from sklearn.model_selection import train_test_split\n",
        "from sklearn.preprocessing import LabelEncoder\n",
        "\n",
        "# Assuming X and y are your input images and labels\n",
        "# Label Encoding\n",
        "label_encoder = LabelEncoder()\n",
        "y = label_encoder.fit_transform(y)\n",
        "\n",
        "# Split the dataset into training and testing sets\n",
        "X_train, X_test, y_train, y_test = train_test_split(X, y, test_size=0.2, random_state=42)\n",
        "\n",
        "# Normalize the image data to values between 0 and 1\n",
        "X_train = X_train.astype('float32') / 255.0\n",
        "X_test = X_test.astype('float32') / 255.0\n",
        "\n",
        "# Repeat the single channel to create a three-channel image\n",
        "X_train_rgb = np.repeat(X_train[..., np.newaxis], 3, -1)\n",
        "X_test_rgb = np.repeat(X_test[..., np.newaxis], 3, -1)\n",
        "\n",
        "# Load the MobileNetV2 model without the top (fully connected) layers\n",
        "base_model = MobileNet(weights='imagenet', include_top=False, input_shape=(224, 224, 3))\n",
        "\n",
        "# Add your custom top layers for your specific task\n",
        "x = base_model.output\n",
        "x = GlobalAveragePooling2D()(x)\n",
        "x = Dense(1024, activation='relu')(x)\n",
        "x= Dropout(0.5)(x)\n",
        "predictions = Dense(4, activation='softmax')(x)  # Assuming binary classification\n",
        "\n",
        "# Create a new model with the custom top layers\n",
        "model = Model(inputs=base_model.input, outputs=predictions)\n",
        "\n",
        "# Freeze the pre-trained layers\n",
        "for layer in base_model.layers:\n",
        "    layer.trainable = False\n",
        "# Compile the model\n",
        "model.compile(optimizer=tf.keras.optimizers.Adam(learning_rate=0.001),\n",
        "              loss='sparse_categorical_crossentropy',  # Assuming binary classification\n",
        "              metrics=['accuracy'])\n",
        "\n",
        "# Fine-tune the model on your dataset\n",
        "model.fit(X_train_rgb, y_train, epochs=20, batch_size=32, validation_data=(X_test_rgb,y_test))\n",
        "# Evaluate the model on the test set\n",
        "loss, accuracy = model.evaluate(X_test_rgb, y_test)\n",
        "print(\"Test accuracy:\", accuracy)\n"
      ]
    }
  ],
  "metadata": {
    "colab": {
      "provenance": [],
      "include_colab_link": true
    },
    "kernelspec": {
      "display_name": "Python 3",
      "name": "python3"
    },
    "language_info": {
      "name": "python"
    }
  },
  "nbformat": 4,
  "nbformat_minor": 0
}